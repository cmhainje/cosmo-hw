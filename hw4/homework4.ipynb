{
 "cells": [
  {
   "cell_type": "markdown",
   "id": "ce6e9653-6560-4093-b72e-a83a4661b6b5",
   "metadata": {
    "jp-MarkdownHeadingCollapsed": true
   },
   "source": [
    "# Homework 4"
   ]
  },
  {
   "cell_type": "code",
   "execution_count": 1,
   "id": "cbe4f877-89d8-4df9-bf52-f9f3b9bc042d",
   "metadata": {},
   "outputs": [],
   "source": [
    "import numpy as np\n",
    "import matplotlib as mpl\n",
    "import matplotlib.pyplot as plt\n",
    "import astropy.constants as C\n",
    "import astropy.units as u\n",
    "\n",
    "import chic\n",
    "\n",
    "from astropy.cosmology import Planck18"
   ]
  },
  {
   "cell_type": "markdown",
   "id": "ce1ddfa3-2a67-4635-bdf3-cd1bd8937dc1",
   "metadata": {},
   "source": [
    "$$\n",
    "\\newcommand{\\H}{{\\rm H}}\n",
    "\\newcommand{\\He}{{\\rm He}}\n",
    "$$"
   ]
  },
  {
   "cell_type": "markdown",
   "id": "97763d82-4983-4b50-a0fe-d308f6b6a0b3",
   "metadata": {},
   "source": [
    "# Problem 1: HeRec"
   ]
  },
  {
   "cell_type": "markdown",
   "id": "9729e2ee-600a-4c18-a152-c5a6db1df10a",
   "metadata": {},
   "source": [
    "Here are my results from part 1.\n",
    "\n",
    "Saha equation for $\\He^0 + \\gamma \\to \\He^+ + e^-$:\n",
    "$$\n",
    "\\newcommand{\\H}{{\\rm H}}\n",
    "\\newcommand{\\He}{{\\rm He}}\n",
    "\\frac{(x_e - 1) \\, x_e}{1 + f_\\He - x_e}\n",
    "= \\frac{4}{n_\\H} \\left( \\frac{\\tilde{m}_e \\, T}{2 \\pi} \\right)^{3/2} e^{-E_1/T},\n",
    "\\quad \\tilde{m}_e \\equiv \\frac{ m_{\\He^{+}} }{ m_{\\He^{0}} } \\, m_e\n",
    "$$\n",
    "\n",
    "Saha equation for $\\He^+ + \\gamma \\to \\He^{++} + e^-$:\n",
    "$$\n",
    "\\frac{(x_e - 1 - f_\\He) \\, x_e}{1 + 2 f_\\He - x_e}\n",
    "= \\frac{1}{n_\\H} \\left( \\frac{\\tilde{\\tilde{m}}_e \\, T}{2 \\pi} \\right)^{3/2} e^{-E_2/T},\n",
    "\\quad \\tilde{\\tilde{m}}_e \\equiv \\frac{ m_{\\He^{++}} }{ m_{\\He^{+}} } \\, m_e\n",
    "$$\n",
    "\n",
    "where $E_1 = 24.59 \\ \\text{eV}$, $E_2 = 54.42 \\ \\text{eV}$.\n",
    "\n",
    "Let's compute the tilde-$m_e$'s first, using $m_{\\He^0} = 4.002602 \\ \\text{u}$ (from Wolfram Alpha)."
   ]
  },
  {
   "cell_type": "code",
   "execution_count": 2,
   "id": "7d0486a0-4d82-409d-942b-8fbf7e0e0567",
   "metadata": {},
   "outputs": [],
   "source": [
    "E_1 = 24.59 * u.eV\n",
    "E_2 = 54.42 * u.eV\n",
    "\n",
    "m_e = (C.m_e * C.c**2).to(u.eV)\n",
    "m_p = (C.m_p * C.c**2).to(u.eV)\n",
    "m_He_0 = 4.002602 * (C.u * C.c**2).to(u.eV)\n",
    "m_He_1 = E_1 + m_He_0 - m_e\n",
    "m_He_2 = E_2 + m_He_1 - m_e\n",
    "\n",
    "m_e_tilde1 = m_He_1 / m_He_0 * m_e\n",
    "m_e_tilde2 = m_He_2 / m_He_1 * m_e"
   ]
  },
  {
   "cell_type": "markdown",
   "id": "42fa0c94-3122-4a65-992c-10b232045884",
   "metadata": {},
   "source": [
    "Now let's work out the conversion between $Y_\\He$ and $f_\\He$.\n",
    "\n",
    "$$\n",
    "Y_\\He\n",
    " \\equiv \\frac{\\rho_\\He}{\\rho_b}\n",
    "      = \\frac{m_{\\He^0} \\, n_{\\He^0} + m_{\\He^+} \\, n_{\\He^+} + m_{\\He^{++}} \\, n_{\\He^{++}}}{m_p \\, n_p + \\sum_{k} m_{\\He^k} \\, n_{\\He^k} }\n",
    "\\approx \\frac{m_{\\He^0} \\, n_\\He}{m_p \\, n_\\H + m_{\\He^0} \\, n_\\He}\n",
    "      = \\left( 1 + \\frac{m_p}{m_{\\He^0}} \\frac{1}{f_\\He} \\right)^{-1}\n",
    "$$\n",
    "\n",
    "$$\n",
    "\\implies f_\\He = \\frac{m_p}{m_{\\He^0}} (Y_\\He^{-1} - 1)^{-1}\n",
    "$$"
   ]
  },
  {
   "cell_type": "code",
   "execution_count": 3,
   "id": "9f2d7c5c-c7fb-41f3-ace8-d884a970a7ab",
   "metadata": {},
   "outputs": [
    {
     "data": {
      "text/plain": [
       "np.float64(0.07947013099192726)"
      ]
     },
     "execution_count": 3,
     "metadata": {},
     "output_type": "execute_result"
    }
   ],
   "source": [
    "def helium_fraction(Y_He):\n",
    "    ratio = (m_p / m_He_0).to(u.dimensionless_unscaled).value\n",
    "    return ratio / (1 / Y_He - 1)\n",
    "\n",
    "helium_fraction(0.24)"
   ]
  },
  {
   "cell_type": "markdown",
   "id": "871780ed-b047-4342-bd9c-63fadc1ed46c",
   "metadata": {},
   "source": [
    "The only other quantity in the equations that is so far unspecified is $n_\\H$. We need it in terms of $\\omega_b$.\n",
    "\n",
    "$$\n",
    "\\omega_b\n",
    "      = \\Omega_b \\, h^2\n",
    "      = \\frac{h^2}{\\rho_{\\rm crit}} \\, \\rho_b\n",
    "\\approx \\frac{h^2}{\\rho_{\\rm crit}} \\left( m_p \\, n_\\H + m_{\\He^0} \\, n_\\He \\right)\n",
    "      = \\frac{h^2}{\\rho_{\\rm crit}} \\left( m_p + f_\\He \\, m_{\\He^0} \\right) \\, n_\\H\n",
    "$$\n",
    "\n",
    "$$\n",
    "\\implies n_\\H = \\frac{\\omega_b \\, h^{-2} \\, \\rho_{\\rm crit}}{m_p + f_\\He \\, m_{\\He^0}}\n",
    "$$"
   ]
  },
  {
   "cell_type": "code",
   "execution_count": 4,
   "id": "d51ce2f4-41bd-4150-b9ff-fa52890a076b",
   "metadata": {},
   "outputs": [
    {
     "data": {
      "text/latex": [
       "$0.19133062 \\; \\mathrm{\\frac{1}{m^{3}}}$"
      ],
      "text/plain": [
       "<Quantity 0.19133062 1 / m3>"
      ]
     },
     "execution_count": 4,
     "metadata": {},
     "output_type": "execute_result"
    }
   ],
   "source": [
    "h_Planck18 = (Planck18.H0 / (100 * u.km/u.s/u.Mpc)).to(u.dimensionless_unscaled).value\n",
    "rho_c_Planck18 = Planck18.critical_density0\n",
    "omega_b_Planck18 = Planck18.Ob0 * h_Planck18**2\n",
    "\n",
    "def n_H(omega_b, Y_He, h=h_Planck18, rho_c=rho_c_Planck18):\n",
    "    numer = omega_b / h**2 * rho_c\n",
    "    denom = (m_p + helium_fraction(Y_He) * m_He_0) / C.c**2\n",
    "    return (numer / denom).to(1 / u.m**3)\n",
    "\n",
    "n_H(omega_b_Planck18, 0.24)"
   ]
  },
  {
   "cell_type": "markdown",
   "id": "6ecce9f7-cc7e-4e4a-b825-240c299158f1",
   "metadata": {},
   "source": [
    "Lastly, our equations are in terms of $T$, but we want $x_e$ as a function of $z$.\n",
    "\n",
    "During Helium recombination, we don't have any major uncouplings or any particles going non-relativistic, so $g_{*}$ and $g_{*s}$ should be constant. This means that $T \\propto a^{-1} = 1 + z$. Supposing we have the temperature $T_0$ at a reference redshift $z_0$, we can get the temperature at another redshift by\n",
    "$$\n",
    "T(z) = \\frac{1 + z}{1 + z_0} T_0.\n",
    "$$\n",
    "\n",
    "For the reference, I'll just use today: $z_0 = 0$, $T_0 = 2.73 \\ \\text{K}$."
   ]
  },
  {
   "cell_type": "code",
   "execution_count": 5,
   "id": "b365c9a9-3a5b-40b5-9d81-d79d1c0aef62",
   "metadata": {},
   "outputs": [
    {
     "data": {
      "text/latex": [
       "$0.25858683 \\; \\mathrm{eV}$"
      ],
      "text/plain": [
       "<Quantity 0.25858683 eV>"
      ]
     },
     "execution_count": 5,
     "metadata": {},
     "output_type": "execute_result"
    }
   ],
   "source": [
    "def temperature(z):\n",
    "    T_0 = (Planck18.Tcmb0 * C.k_B).to(u.eV)\n",
    "    return (1 + z) * T_0\n",
    "\n",
    "temperature(1100)"
   ]
  },
  {
   "cell_type": "markdown",
   "id": "7cfa6d96-e6e9-412d-9692-0a961bdb0dfb",
   "metadata": {},
   "source": [
    "Finally, we can solve for $x_e$.\n",
    "\n",
    "Eqn 1:\n",
    "$$\n",
    "\\newcommand{\\RHS}{{\\rm RHS}}\n",
    "\\frac{(x_e - 1) \\, x_e}{1 + f_\\He - x_e} = \\RHS\n",
    "\\implies\n",
    "x_e = \\frac{1}{2} \\left[ 1 - \\RHS + \\sqrt{(1 + \\RHS)^2 + 4 \\, f_\\He \\, \\RHS} \\right]\n",
    "$$\n",
    "\n",
    "Eqn 2:\n",
    "$$\n",
    "\\frac{(x_e - 1 - f_\\He) \\, x_e}{1 + 2 f_\\He - x_e} = {\\rm RHS}\n",
    "\\implies\n",
    "x_e = \\frac{1}{2} \\left[ 1 - \\RHS + f_\\He + \\sqrt{(1 + \\RHS + f_\\He)^2 + 4 \\, f_\\He \\, \\RHS} \\right]\n",
    "$$\n",
    "\n",
    "For stability, let's consider some limits.\n",
    "\n",
    "Eqn 1:\n",
    "$$\n",
    "\\begin{gathered}\n",
    "\\RHS \\to 0 \\implies \\text{numerator} \\to 0 \\implies x_e \\to 1, \\\\\n",
    "\\RHS \\to \\infty \\implies \\text{denominator} \\to 0 \\implies x_e \\to 1 + f_\\He\n",
    "\\end{gathered}\n",
    "$$\n",
    "\n",
    "Eqn 2:\n",
    "$$\n",
    "\\begin{gathered}\n",
    "\\RHS \\to 0 \\implies \\text{numerator} \\to 0 \\implies x_e \\to 1 + f_\\He, \\\\\n",
    "\\RHS \\to \\infty \\implies \\text{denominator} \\to 0 \\implies x_e \\to 1 + 2 \\, f_\\He\n",
    "\\end{gathered}\n",
    "$$\n",
    "\n",
    "Let's implement these limits in our solutions to the equations. We'll do so by setting thresholds on the value of $\\RHS$."
   ]
  },
  {
   "cell_type": "code",
   "execution_count": 6,
   "id": "87753b83-4aeb-4aff-8a77-eac82d541d4b",
   "metadata": {},
   "outputs": [],
   "source": [
    "threshold = 1e8\n",
    "\n",
    "def _equation_1(T, f_He, n_H):\n",
    "    E_over_T = (E_1 / T).to(u.dimensionless_unscaled).value\n",
    "    n_H_eV = (n_H * (C.c * C.hbar)**3).to(u.eV**3)\n",
    "    RHS = 4 * (m_e_tilde1 * T / (2 * np.pi))**(3/2) / n_H_eV * np.exp(-E_over_T)\n",
    "    RHS = RHS.to(u.dimensionless_unscaled).value\n",
    "\n",
    "    if RHS > threshold:\n",
    "        return 1 + f_He\n",
    "    elif RHS < 1 / threshold:\n",
    "        return 1\n",
    "    else:\n",
    "        return 0.5 * (1 - RHS + np.sqrt((1 + RHS)**2 + 4 * f_He * RHS))\n",
    "\n",
    "def _equation_2(T, f_He, n_H):\n",
    "    E_over_T = (E_2 / T).to(u.dimensionless_unscaled).value\n",
    "    n_H_eV = (n_H * (C.c * C.hbar)**3).to(u.eV**3)\n",
    "    RHS = (m_e_tilde2 * T / (2 * np.pi))**(3/2) / n_H_eV * np.exp(-E_over_T)\n",
    "    RHS = RHS.to(u.dimensionless_unscaled).value\n",
    "    if RHS > threshold:\n",
    "        return 1 + 2 * f_He\n",
    "    elif RHS < 1 / threshold:\n",
    "        return 1 + f_He\n",
    "    else:\n",
    "        return 0.5 * (1 - RHS + f_He + np.sqrt((1 + RHS + f_He)**2 + 4 * f_He * RHS))\n",
    "\n",
    "def electron_fraction(z_arr, omega_b=omega_b_Planck18, Y_He=0.24):\n",
    "    _f_He = helium_fraction(Y_He)\n",
    "    \n",
    "    z_arr = np.sort(z_arr)\n",
    "    T_arr = temperature(z_arr)\n",
    "\n",
    "    x_e_arr = np.zeros_like(z_arr)\n",
    "    switch = False\n",
    "    for i, (_z, _T) in enumerate(zip(z_arr, T_arr)):\n",
    "        h = (Planck18.H(_z) / (100 * u.km/u.s/u.Mpc)).to(u.dimensionless_unscaled).value\n",
    "        rho_c = Planck18.critical_density(_z)\n",
    "        \n",
    "        _n_H = n_H(omega_b, Y_He, h=h, rho_c=rho_c)\n",
    "        \n",
    "        if not switch:\n",
    "            x_e_arr[i] = _equation_1(_T, _f_He, _n_H)\n",
    "            if x_e_arr[i] - (1 + _f_He) == 0:\n",
    "                # normally want to avoid testing for exact equality, but we modified\n",
    "                # our equations to return _exactly_ this value under certain conditions\n",
    "                # so testing for exact equality is A-OK\n",
    "                x_e_arr[i] = _equation_2(_T, _f_He, _n_H)\n",
    "                switch = True\n",
    "        else:\n",
    "            x_e_arr[i] = _equation_2(_T, _f_He, _n_H)\n",
    "    return z_arr, x_e_arr"
   ]
  },
  {
   "cell_type": "code",
   "execution_count": 7,
   "id": "5101073d-fdb5-48d9-9e36-e08ec6eafe37",
   "metadata": {},
   "outputs": [
    {
     "data": {
      "image/png": "[encoded data removed]",
      "text/plain": [
       "<Figure size 720x576 with 1 Axes>"
      ]
     },
     "metadata": {},
     "output_type": "display_data"
    }
   ],
   "source": [
    "zs = np.geomspace(1500, 8000, 200+1)\n",
    "zs_He, x_es_He = electron_fraction(zs)\n",
    "plt.plot(zs_He, x_es_He)\n",
    "plt.xlabel('$z$')\n",
    "plt.ylabel('$x_e$')\n",
    "plt.xscale('log')\n",
    "plt.ylim(0.9, 1.2)\n",
    "plt.show()"
   ]
  },
  {
   "cell_type": "markdown",
   "id": "50d2e3d7-0cdc-48e3-8a9a-82b734d5d910",
   "metadata": {},
   "source": [
    "# Problem 2: Radiative capture"
   ]
  },
  {
   "cell_type": "markdown",
   "id": "4c523b47-67f9-49a3-8cdc-5cf0d70096fc",
   "metadata": {},
   "source": [
    "Evaluating the units of my $b_{\\rm max}$ quantities:\n",
    "\n",
    "$$\n",
    "b_{\\rm max, cl} = (4 \\pi)^{1/5} \\frac{e^2}{m \\, v^{7/5}}\n",
    "$$"
   ]
  },
  {
   "cell_type": "code",
   "execution_count": 8,
   "id": "1606f3eb-54ea-4ae9-a429-0e513483ef26",
   "metadata": {},
   "outputs": [
    {
     "data": {
      "text/latex": [
       "$4.6749155 \\times 10^{-15} \\; \\mathrm{m}$"
      ],
      "text/plain": [
       "<Quantity 4.67491549e-15 m>"
      ]
     },
     "execution_count": 8,
     "metadata": {},
     "output_type": "execute_result"
    }
   ],
   "source": [
    "(\n",
    "    (4 * np.pi)**(1/5) * C.e.gauss**2 / (C.m_e * C.c**2)\n",
    ").decompose()"
   ]
  },
  {
   "cell_type": "markdown",
   "id": "75a6bfdd-0335-47a2-9f24-1c86ec5ccd86",
   "metadata": {},
   "source": [
    "$$\n",
    "b_{\\rm max} = \\left( \\frac{4 \\pi}{3} \\right)^{1/2} \\frac{e^3}{m \\, v}\n",
    "$$"
   ]
  },
  {
   "cell_type": "code",
   "execution_count": 9,
   "id": "746d29a9-4994-45e6-8159-3ee45e55538c",
   "metadata": {},
   "outputs": [
    {
     "data": {
      "text/latex": [
       "$4.92673 \\times 10^{-16} \\; \\mathrm{m}$"
      ],
      "text/plain": [
       "<Quantity 4.92672999e-16 m>"
      ]
     },
     "execution_count": 9,
     "metadata": {},
     "output_type": "execute_result"
    }
   ],
   "source": [
    "(\n",
    "    (4 * np.pi / 3)**(1/2) * C.e.gauss**3 / (C.m_e * C.c**2) / (C.hbar * C.c)**(1/2)\n",
    ").decompose()"
   ]
  },
  {
   "cell_type": "markdown",
   "id": "d853556e-a9ac-4855-9448-87aee44799bd",
   "metadata": {},
   "source": [
    "Fiducial value for $\\mathcal{A}_{\\rm cl}$\n",
    "\n",
    "$$\n",
    "\\mathcal{A}_{\\rm cl} = \\frac{2 \\, (2\\pi)^{3/2}}{3} \\frac{e^6}{m_e^{3/2} \\, T^{1/2}}\n",
    "= \\frac{2 \\, (2\\pi)^{3/2}}{3} \\frac{e^6}{(m_e c^2)^{3/2} \\, T^{1/2} \\hbar}\n",
    "$$"
   ]
  },
  {
   "cell_type": "code",
   "execution_count": 10,
   "id": "21283567-1d17-45bf-83ec-4c223b1af887",
   "metadata": {},
   "outputs": [
    {
     "data": {
      "text/latex": [
       "$1.4045969 \\times 10^{-13} \\; \\mathrm{\\frac{cm^{3}}{s}}$"
      ],
      "text/plain": [
       "<Quantity 1.40459694e-13 cm3 / s>"
      ]
     },
     "execution_count": 10,
     "metadata": {},
     "output_type": "execute_result"
    }
   ],
   "source": [
    "A_cl = (\n",
    "    2 * (2 * np.pi)**(3/2) / 3 *\n",
    "    (C.e.gauss ** 6) / (C.m_e * C.c**2)**(3/2) / (1e4 * u.K * C.k_B)**(1/2) / C.hbar\n",
    ").to(u.cm**3 * u.s**-1)\n",
    "A_cl"
   ]
  },
  {
   "cell_type": "code",
   "execution_count": 11,
   "id": "6aeb4955-b9b6-4899-a31a-b3390c5ccd55",
   "metadata": {},
   "outputs": [
    {
     "data": {
      "image/png": "[encoded data removed]",
      "text/plain": [
       "<Figure size 720x576 with 1 Axes>"
      ]
     },
     "metadata": {},
     "output_type": "display_data"
    }
   ],
   "source": [
    "Ts = np.geomspace(1e3, 1e4, 20+1)\n",
    "T4s = Ts / 1e4\n",
    "\n",
    "A_cls = A_cl / np.sqrt(T4s)\n",
    "A_Bs = 4.309 * np.pow(T4s, -0.6166) / (1 + 0.6703 * np.pow(T4s, 0.53)) * (1e-13 * u.cm**3 / u.s)\n",
    "ratio = A_Bs / A_cls\n",
    "\n",
    "plt.plot(Ts, ratio)\n",
    "plt.xlabel('$T$ [K]')\n",
    "plt.ylabel(r'$\\mathcal{A}_{B} / \\mathcal{A}_{\\rm cl}$')\n",
    "plt.show()"
   ]
  },
  {
   "cell_type": "markdown",
   "id": "ec4a414a-b664-4ff4-afbc-3a2bb18642d2",
   "metadata": {},
   "source": [
    "# Problem 3: HyRec"
   ]
  },
  {
   "cell_type": "markdown",
   "id": "9abf411a-e1b9-4a87-aeb6-2a20c2ebf0cd",
   "metadata": {},
   "source": [
    "We want to write a code that takes as inputs\n",
    "\n",
    "- $T_0$ (CMB temperature today)\n",
    "- $\\omega_b, \\omega_m, \\omega_\\Lambda$\n",
    "- $N_{\\rm eff}$\n",
    "- $Y_\\He$\n",
    "\n",
    "and outputs $x_e(z)$."
   ]
  },
  {
   "cell_type": "markdown",
   "id": "b9610887-4335-4a70-8217-5c391ca85da8",
   "metadata": {},
   "source": [
    "Let's start with the final result. In lecture, we found that the complete ODE for $x_e$ including $2p \\to 1s + \\gamma$ and $2s \\to 1s + \\gamma + \\gamma$ transitions was given by\n",
    "\n",
    "$$\n",
    "\\dot{x}_e = -C \\left[\n",
    "    n_\\H \\, \\mathcal{A}_B \\, x_e^2\n",
    "    - 4 \\, \\mathcal{B}_B \\, e^{-E_{21}/T} \\, (1 - x_e)\n",
    "\\right]\n",
    "$$\n",
    "\n",
    "where\n",
    "\n",
    "$$\n",
    "\\begin{gathered}\n",
    "\\mathcal{A}_B (T) \\approx \\frac{4.309 \\, (T/10^4 \\ \\text{K})^{-0.6166}}{1 + 0.6703 \\, (T/10^4 \\ \\text{K})^{0.53}} \\times 10^{-13} \\ \\text{cm}^{3} \\, \\text{s}^{-1},\n",
    "\\\\\n",
    "4 \\, \\mathcal{B}_B (T) = 4 \\, n_\\H \\, \\mathcal{A}_B (T) \\left( \\frac{x_e^2}{x_2} \\right)_{ {\\rm Saha}, \\, T }\n",
    "= n_\\H \\, \\mathcal{A}_B (T) \\, e^{+E_{21}/T} \\left( \\frac{x_e^2}{1 - x_e} \\right)_{ {\\rm Saha}, \\, T },\n",
    "\\\\\n",
    "C(T) = \\frac{\n",
    "    \\frac{8\\pi H}{\\lambda^3 \\, n_\\H} + \\Lambda_{2\\gamma}\n",
    "}{\n",
    "    \\frac{8\\pi H}{\\lambda^3 \\, n_\\H} + \\Lambda_{2\\gamma} + 4 \\, \\mathcal{B}_B(T)\n",
    "},\n",
    "\\\\\n",
    "\\lambda \\equiv h / E_{21} \\approx 1216 \\ \\mathring{A}, \\quad\n",
    "\\Lambda_{2\\gamma} = 8.22 \\ \\text{s}^{-1}\n",
    "\\end{gathered}\n",
    "$$\n",
    "\n",
    "Plugging $\\mathcal{B}_B$ into $\\dot{x}_e$, we find\n",
    "\n",
    "$$\n",
    "\\dot{x}_e = -C(T) \\, n_\\H \\, \\mathcal{A}_B (T) \\left[\n",
    "    x_e^2\n",
    "    -  \\left( \\frac{x_e^2}{1 - x_e} \\right)_{ {\\rm Saha}, \\, T } \\, (1 - x_e)\n",
    "\\right]\n",
    "$$"
   ]
  },
  {
   "cell_type": "code",
   "execution_count": 12,
   "id": "66f862de-ddec-47a6-a5df-ff53d9d98002",
   "metadata": {},
   "outputs": [],
   "source": [
    "def A_B(T: u.Quantity['energy']):\n",
    "    T4 = T / (1e4 * u.K * C.k_B)\n",
    "    T4 = T4.to(u.dimensionless_unscaled).value\n",
    "    return (\n",
    "        (4.309 * np.pow(T4, -0.6166))\n",
    "        / (1 + 0.6703 * np.pow(T4, 0.53))\n",
    "        * (1e-13 * u.cm**3 / u.s)\n",
    "    )"
   ]
  },
  {
   "cell_type": "markdown",
   "id": "805a60fc-2ad9-4b72-ae67-a47293ad4db3",
   "metadata": {},
   "source": [
    "Now equilibrium is described by the Saha equation:\n",
    "\n",
    "$$\n",
    "\\left. \\frac{x_e^2}{1 - x_e} \\right|_{\\rm eq} = \\frac{1}{n_\\H} \\left( \\frac{\\tilde{m}_e \\, T}{2 \\pi} \\right)^{3/2} \\, e^{-E_{\\rm I}/T},\n",
    "\\quad \\tilde{m}_e \\equiv \\frac{m_p}{m_{\\H^0}} \\, m_e,\n",
    "\\quad E_{\\rm I} = 13.6 \\ \\text{eV}\n",
    "$$\n",
    "\n",
    "We can use this to implement the Peebles' C factor."
   ]
  },
  {
   "cell_type": "code",
   "execution_count": 13,
   "id": "28c7d8db-61b7-4e9d-ae9d-24a8ac1e95f6",
   "metadata": {},
   "outputs": [
    {
     "name": "stdout",
     "output_type": "stream",
     "text": [
      "3741460496403157.0\n",
      "3.5973473586138553e-07\n"
     ]
    }
   ],
   "source": [
    "m_e = (C.m_e * C.c**2).to(u.eV)\n",
    "m_p = (C.m_p * C.c**2).to(u.eV)\n",
    "E_I = 13.6 * u.eV\n",
    "m_H_0 = (m_p + m_e - E_I)\n",
    "m_e_tilde = (m_p / m_H_0) * m_e\n",
    "\n",
    "E_21 = 10.2 * u.eV\n",
    "lambda_21 = (C.h * C.c / E_21).to(u.Angstrom)\n",
    "Lambda_2g = 8.22 / u.s\n",
    "\n",
    "def saha_equilibrium_RHS(T: u.Quantity['energy'], n_H: u.Quantity['number density']):\n",
    "    E_over_T = (E_I / T).to(u.dimensionless_unscaled).value\n",
    "    n_H_eV = (n_H * (C.c * C.hbar)**3).to(u.eV**3)\n",
    "    eV3_ratio = ((m_e_tilde * T) / (2 * np.pi))**(3/2) / n_H_eV\n",
    "    eV3_ratio = eV3_ratio.to(u.dimensionless_unscaled).value\n",
    "    RHS = eV3_ratio * np.exp(-E_over_T)\n",
    "    return RHS\n",
    "\n",
    "def peebles_C(T: u.Quantity['energy'], n_H: u.Quantity['number density'], H: u.Quantity['frequency'] = 67.6 * u.km/u.s/u.Mpc):\n",
    "    E21_over_T = (E_21 / T).to(u.dimensionless_unscaled).value\n",
    "    _A_B = A_B(T)\n",
    "    x_eq_RHS = saha_equilibrium_RHS(T, n_H)\n",
    "    numer = (8 * np.pi * H) / (lambda_21**3 * n_H).to(u.dimensionless_unscaled).value + Lambda_2g\n",
    "    four_B_B = n_H * _A_B * np.exp(E21_over_T) * x_eq_RHS\n",
    "    return (numer / (numer + four_B_B)).to(u.dimensionless_unscaled).value\n",
    "\n",
    "print(saha_equilibrium_RHS(1 * u.eV, 1 * u.cm**-3))\n",
    "print(peebles_C(1 * u.eV, 1 * u.cm**-3))"
   ]
  },
  {
   "cell_type": "markdown",
   "id": "c4cfa687-6188-4d90-b123-f54195ed8035",
   "metadata": {},
   "source": [
    "We also want $n_\\H$ in terms of cosmological parameters.\n",
    "\n",
    "Note that all helium is assumed to be neutral (He recombination is complete!), so charge neutrality means $n_e = n_p$.\n",
    "\n",
    "We take $n_\\H = n_p + n_{\\H^0}$ and $\\rho_\\H = \\rho_p + \\rho_{\\H^0}$. Using that $n_p = x_e \\, n_\\H$, we can rewrite the energy density as\n",
    "$$\n",
    "\\rho_\\H = (m_p \\, x_e + m_{\\H^0} \\, (1 - x_e)) \\, n_\\H \\equiv \\overline m_\\H(x_e) \\, n_\\H\n",
    "$$\n",
    "And so\n",
    "$$\n",
    "\\rho_b = \\overline m_\\H \\, n_H + Y_\\He \\, \\rho_b\n",
    "\\implies\n",
    "n_\\H = \\frac{1 - Y_\\He}{\\overline m_\\H} \\, \\rho_b\n",
    "$$\n",
    "In terms of cosmological parameters,\n",
    "$$\n",
    "\\begin{gathered}\n",
    "\\rho_b(z) = \\rho_{b,0} \\, (1 + z)^3 \n",
    "= \\omega_b \\, h^{-2} \\, \\rho_{c,0} \\, (1 + z)^3\n",
    "= \\frac{3 \\, (100 \\ \\text{km/s/Mpc})^2 \\, \\omega_b}{8 \\pi G} \\, (1 + z)^3\n",
    "\\end{gathered}\n",
    "$$"
   ]
  },
  {
   "cell_type": "markdown",
   "id": "90368268-8fb8-42e4-8526-689b68e439f2",
   "metadata": {},
   "source": [
    "At this point, we have everything we need to compute $\\dot x_e$ at a given $x_e$ and $T$.\n",
    "\n",
    "In order to integrate this into $x_e(z)$, we need to write the differential equation instead in the form\n",
    "$$\n",
    "\\frac{d}{dz} x_e = f(z, x_e).\n",
    "$$\n",
    "\n",
    "This requires two parts:\n",
    "\n",
    "1. We need $T(z)$.\n",
    "2. We need $d x_e/dz$ as a function of $\\dot x_e$ and cosmological parameters."
   ]
  },
  {
   "cell_type": "markdown",
   "id": "e6c5d474-e1fa-4aad-b61c-a08e0ad0d25e",
   "metadata": {},
   "source": [
    "Getting $T(z)$ is easy; in fact we've already done it above.\n",
    "\n",
    "During hydrogen recombination, there are no species going non-relativistic, so $g_*$ and $g_{*s}$ are constant, meaning that $T \\propto a^{-1} = 1 + z$. So, given $T_0 = T(z=0)$, \n",
    "\n",
    "$$\n",
    "T(z) = (1 + z) \\, T_0.\n",
    "$$"
   ]
  },
  {
   "cell_type": "code",
   "execution_count": 14,
   "id": "4a030b86-a0f6-44b0-8542-1ed10b12fba2",
   "metadata": {},
   "outputs": [],
   "source": [
    "T_0_Planck = (2.73 * u.K * C.k_B).to(u.eV)\n",
    "\n",
    "def temperature(z, T_0: u.Quantity['energy']=T_0_Planck):\n",
    "    return (1 + z) * T_0"
   ]
  },
  {
   "cell_type": "markdown",
   "id": "b82e507f-91da-41f1-8a49-0f22391ec75d",
   "metadata": {},
   "source": [
    "Lastly, we need $dx_e/dz$. By the chain rule,\n",
    "$$\n",
    "\\frac{d}{dt} = \\frac{da}{dt} \\frac{dz}{da} \\frac{d}{dz} = -\\frac{\\dot a}{a^2} \\frac{d}{dz}\n",
    "$$\n",
    "so\n",
    "$$\n",
    "\\frac{d x_e}{dz} = - \\frac{a^2}{\\dot{a}} \\dot{x}_e = - \\frac{\\dot{x}_e}{(1+z) \\, H}\n",
    "$$\n",
    "\n",
    "The Friedmann equation gives\n",
    "$$\n",
    "\\begin{aligned}\n",
    "H\n",
    "&= (100 \\ \\text{km/s/Mpc}) \\left[ \\omega_m \\, a^{-3} + \\omega_r \\, a^{-4} + \\omega_\\Lambda + \\omega_k \\, a^{-2} \\right]^{1/2} \\\\\n",
    "&= (100 \\ \\text{km/s/Mpc}) \\left[ \\omega_m \\, (1+z)^{3} + \\omega_r \\, (1+z)^{4} + \\omega_\\Lambda + \\omega_k \\, (1+z)^{2} \\right]^{1/2} \\\\\n",
    "\\end{aligned}\n",
    "$$"
   ]
  },
  {
   "cell_type": "markdown",
   "id": "279a3fd3-b85a-4f18-ab59-bbb3cf0874cc",
   "metadata": {},
   "source": [
    "The last thing we need is to write the $\\omega_i$ values in terms of the desired inputs $\\omega_m, \\omega_\\Lambda, N_{\\rm eff}, T_0$.\n",
    "\n",
    "We can compute the radiation density parameter from $T_0$ as follows.\n",
    "$$\n",
    "\\omega_r\n",
    "= \\Omega_{r,0} \\, h^2\n",
    "= \\frac{8 \\pi G \\, h^2}{3 H^2} \\, \\rho_{r,0}\n",
    "= \\frac{8 \\pi G}{3 (100 \\ \\text{km/s/Mpc})^2} \\, \\rho_{r,0}.\n",
    "$$\n",
    "Assuming neutrinos are massless, we next have\n",
    "$$\n",
    "\\rho_{r,0} = \\rho_{\\gamma,0} + \\rho_{\\nu,0}\n",
    "= \\frac{\\pi^2}{15} \\left[ 1 + N_{\\rm eff} \\, \\frac{7}{8} \\left(\\frac{4}{11}\\right)^{4/3} \\right] \\, T_0^4\n",
    "$$\n",
    "\n",
    "Finally, we know\n",
    "$$\n",
    "\\omega_m \\, h^{-2} + \\omega_r \\, h^{-2} + \\omega_\\Lambda \\, h^{-2} + \\omega_k \\, h^{-2} = 1.\n",
    "$$\n",
    "so we can compute\n",
    "$$\n",
    "\\omega_k = h^2 - \\omega_m + \\omega_r + \\omega_\\Lambda\n",
    "$$"
   ]
  },
  {
   "cell_type": "code",
   "execution_count": 15,
   "id": "7ebd2d8c-91ca-422a-ae07-cbe41c06022f",
   "metadata": {},
   "outputs": [
    {
     "data": {
      "text/plain": [
       "np.float64(4.20800953368113e-05)"
      ]
     },
     "execution_count": 15,
     "metadata": {},
     "output_type": "execute_result"
    }
   ],
   "source": [
    "def omega_r(T_0: u.Quantity['energy'], N_eff):\n",
    "    prefactor = (8 * np.pi**3 * C.G) / (45 * (100 * u.km/u.s/u.Mpc)**2)\n",
    "    prefactor = (prefactor / C.c**5 / C.hbar**3).to(u.eV**-4)\n",
    "    return (prefactor * (1 + N_eff * 7/8 * (4/11)**(4/3)) * T_0**4).to(u.dimensionless_unscaled).value\n",
    "\n",
    "omega_r(2.73 * u.K * C.k_B, 3.04)"
   ]
  },
  {
   "cell_type": "code",
   "execution_count": 16,
   "id": "526d89da-6bbc-4ea5-9069-433ddff43d83",
   "metadata": {},
   "outputs": [],
   "source": [
    "def omega_k(omega_m, omega_L, omega_r, h=0.6766):\n",
    "    return h**2 - omega_m - omega_r - omega_L"
   ]
  },
  {
   "cell_type": "code",
   "execution_count": 17,
   "id": "5cfb5aac-d78e-4b78-a963-83247109e31a",
   "metadata": {},
   "outputs": [],
   "source": [
    "from scipy.integrate import solve_ivp\n",
    "\n",
    "class Solver:\n",
    "    def __init__(\n",
    "        self,\n",
    "        T_0: u.Quantity['energy'],\n",
    "        omega_b,\n",
    "        omega_m,\n",
    "        omega_L,\n",
    "        N_eff,\n",
    "        Y_He,\n",
    "        h=0.6766\n",
    "    ):\n",
    "        self.T_0 = T_0\n",
    "        self.omega_b = omega_b\n",
    "        self.omega_m = omega_m\n",
    "        self.omega_L = omega_L\n",
    "        self.N_eff = N_eff\n",
    "        self.Y_He = Y_He\n",
    "        self.h = h\n",
    "        \n",
    "        self.omega_r = omega_r(T_0, N_eff)\n",
    "        self.omega_k = omega_k(self.omega_m, self.omega_L, self.omega_r, h=self.h)\n",
    "\n",
    "        self.rho_b_0 = self.omega_b * 3 * (100 * u.km/u.s/u.Mpc)**2 / (8 * np.pi * C.G) * C.c**2\n",
    "        self.rho_b_0 = self.rho_b_0.to(u.eV / u.cm**3)\n",
    "\n",
    "    def hubble(self, z):\n",
    "        return (100 * u.km/u.s/u.Mpc) * np.sqrt(\n",
    "            self.omega_m * (1 + z)**3\n",
    "            + self.omega_r * (1 + z)**4\n",
    "            + self.omega_L\n",
    "            + self.omega_k * (1 + z)**2\n",
    "        )\n",
    "\n",
    "    def temperature(self, z):\n",
    "        return (1 + z) * self.T_0\n",
    "\n",
    "    def hydrogen_density(self, z, x_e):\n",
    "        H = self.hubble(z)\n",
    "        m_H_bar = m_p * x_e + m_H_0 * (1 - x_e)\n",
    "        rho_b = self.rho_b_0 * (1 + z)**3\n",
    "        return (1 - self.Y_He) * rho_b / m_H_bar\n",
    "\n",
    "    def saha(self, z, max_iter=100):\n",
    "        x_e_0 = 1\n",
    "        \n",
    "        for i in range(max_iter):\n",
    "            eq_RHS = saha_equilibrium_RHS(self.temperature(z), self.hydrogen_density(z, x_e_0))\n",
    "            new_x_e_0 = 0.5 * (np.sqrt(eq_RHS**2 + 4 * eq_RHS) - eq_RHS)\n",
    "            if abs(new_x_e_0 - x_e_0) < 1e-4:\n",
    "                return new_x_e_0\n",
    "            x_e_0 = new_x_e_0\n",
    "        else:\n",
    "            print(f'warning: Saha did not converge in {max_iter} iterations')\n",
    "            return x_e_0\n",
    "\n",
    "    def x_e_dot(self, x_e, T, H, n_H):\n",
    "        _A = A_B(T)\n",
    "        _C = peebles_C(T, n_H, H)\n",
    "        saha = saha_equilibrium_RHS(T, n_H)\n",
    "        return - _C * n_H * _A * (x_e**2 - saha * (1 - x_e))\n",
    "\n",
    "    def dxe_dz(self, z, x_e):\n",
    "        _T = self.temperature(z)\n",
    "        _H = self.hubble(z)\n",
    "        _n_H = self.hydrogen_density(z, x_e)\n",
    "        _x_e_dot = self.x_e_dot(x_e, _T, _H, _n_H)\n",
    "        _output = - (_x_e_dot / ((1 + z) * self.hubble(z)))\n",
    "        _output = _output.to(u.dimensionless_unscaled).value\n",
    "        return _output\n",
    "\n",
    "    def solve(self, z_0=1500, z_1=200, z_eval=None):\n",
    "        x_e_0 = self.saha(z_0)\n",
    "        print(f\"Initial x_e: {x_e_0:.4f}\")\n",
    "\n",
    "        return solve_ivp(\n",
    "            self.dxe_dz,\n",
    "            (z_0, z_1),\n",
    "            np.array([x_e_0]),\n",
    "            t_eval=z_eval\n",
    "        )\n",
    "\n",
    "h_PL18 = (Planck18.H0 / (100 * u.km/u.s/u.Mpc)).to(u.dimensionless_unscaled).value\n",
    "\n",
    "solver = Solver(\n",
    "    C.k_B * Planck18.Tcmb0,\n",
    "    omega_b=Planck18.Ob0 * h_PL18**2,\n",
    "    omega_m=Planck18.Om0 * h_PL18**2,\n",
    "    omega_L=Planck18.Ode0 * h_PL18**2,\n",
    "    N_eff=Planck18.Neff,\n",
    "    Y_He=0.24,\n",
    "    h=h_PL18,\n",
    ")"
   ]
  },
  {
   "cell_type": "code",
   "execution_count": 18,
   "id": "69805ab3-52f5-4e2e-b14e-b100c4ce84a8",
   "metadata": {},
   "outputs": [
    {
     "name": "stdout",
     "output_type": "stream",
     "text": [
      "Initial x_e: 0.9477\n"
     ]
    },
    {
     "data": {
      "text/plain": [
       "  message: The solver successfully reached the end of the integration interval.\n",
       "  success: True\n",
       "   status: 0\n",
       "        t: [ 1.500e+03  1.493e+03 ...  2.065e+02  2.000e+02]\n",
       "        y: [[ 9.477e-01  9.472e-01 ...  3.878e-04  3.831e-04]]\n",
       "      sol: None\n",
       " t_events: None\n",
       " y_events: None\n",
       "     nfev: 158\n",
       "     njev: 0\n",
       "      nlu: 0"
      ]
     },
     "execution_count": 18,
     "metadata": {},
     "output_type": "execute_result"
    }
   ],
   "source": [
    "z_eval = np.linspace(1500 - 1e-8, 200 + 1e-8, num=200)\n",
    "result = solver.solve(1500, 200, z_eval)\n",
    "result"
   ]
  },
  {
   "cell_type": "code",
   "execution_count": 19,
   "id": "3520d906-9f15-4a7f-84b0-f09cdea63fb6",
   "metadata": {},
   "outputs": [
    {
     "data": {
      "image/png": "[encoded data removed]",
      "text/plain": [
       "<Figure size 720x576 with 1 Axes>"
      ]
     },
     "metadata": {},
     "output_type": "display_data"
    }
   ],
   "source": [
    "plt.plot(result.t, result.y.squeeze())\n",
    "plt.xlabel('$z$')\n",
    "plt.ylabel('$x_e$')\n",
    "plt.show()"
   ]
  },
  {
   "cell_type": "markdown",
   "id": "c8809370-b5c1-4144-b260-2ae335031beb",
   "metadata": {},
   "source": [
    "Download and compile HYREC-2."
   ]
  },
  {
   "cell_type": "code",
   "execution_count": 20,
   "id": "f1824577-35e3-437b-b4c6-33dcccc084b0",
   "metadata": {},
   "outputs": [],
   "source": [
    "![ ! -d \"HYREC-2\" ] && \\\n",
    "git clone https://github.com/nanoomlee/HYREC-2.git"
   ]
  },
  {
   "cell_type": "code",
   "execution_count": 21,
   "id": "fa0f2fc0-7749-494f-91d4-531f33dd3fab",
   "metadata": {},
   "outputs": [],
   "source": [
    "!cd \"HYREC-2\" && \\\n",
    "gcc -lm -O3 hyrectools.c helium.c hydrogen.c history.c energy_injection.c hyrec.c -o hyrec && \\\n",
    "cd .."
   ]
  },
  {
   "cell_type": "markdown",
   "id": "625fac72-9a91-4bc5-a712-0cfd5f0bfbc1",
   "metadata": {},
   "source": [
    "Make a HyRec input file."
   ]
  },
  {
   "cell_type": "code",
   "execution_count": 22,
   "id": "82332c3b-9f58-4846-935c-2ae90db11d85",
   "metadata": {},
   "outputs": [],
   "source": [
    "lines = [\n",
    "    # our parameters\n",
    "    f\"{h_PL18:.4f}\",\n",
    "    f\"{Planck18.Tcmb0.to(u.K).value}\",\n",
    "    f\"{Planck18.Ob0}\",\n",
    "    f\"{Planck18.Om0}\",\n",
    "    f\"{solver.omega_k / solver.h**2}\",\n",
    "    \"-1 0\",  # cosmological constant eq of state\n",
    "    \"0.\",  # num massive neutrinos\n",
    "    \"0.\",  # neutrino mass 1\n",
    "    \"0.\",  # neutrino mass 2\n",
    "    \"0.\",  # neutrino mass 3\n",
    "    \"0.245\",  # Y_He\n",
    "    f\"{Planck18.Neff}\",\n",
    "\n",
    "    # parameters we aren't using; set to defaults\n",
    "    \"1.\",\n",
    "    \"1.\",\n",
    "    \"0.\",\n",
    "    \"0.\",\n",
    "    \"0.\",\n",
    "    \"0.\",\n",
    "    \"0.\",\n",
    "    \"0.\",\n",
    "    \"0.\",\n",
    "    \"0\",\n",
    "    \"0.\",\n",
    "    \"1.\",\n",
    "    \"0.\",\n",
    "]\n",
    "\n",
    "with open(\"hyrec_input.dat\", \"w\") as f:\n",
    "    f.writelines([f\"{l}\\n\" for l in lines])"
   ]
  },
  {
   "cell_type": "markdown",
   "id": "1af7dc10-2c92-45bd-ba17-a99266f2eeef",
   "metadata": {},
   "source": [
    "Run HYREC-2 on our input."
   ]
  },
  {
   "cell_type": "code",
   "execution_count": 23,
   "id": "b5a896dc-ca0d-42fc-b2b8-bfdf098e8f23",
   "metadata": {},
   "outputs": [
    {
     "name": "stdout",
     "output_type": "stream",
     "text": [
      "Enter Hubble parameter (h) : \n",
      "Enter CMB temperature today [Kelvin]: \n",
      "Enter baryon density, Omega_b: \n",
      "Enter matter (CDM+baryons) density, Omega_cb: \n",
      "Enter curvature, Omega_k: \n",
      "Enter dark energy equation of state parameters, w wa: Enter number of massive neutrino species, Nmnu: \n",
      "Enter mass of neutrino1, mnu: \n",
      "Enter mass of neutrino2, mnu: \n",
      "Enter mass of neutrino3, mnu: \n",
      "Enter primordial helium mass fraction, Y: \n",
      "Enter total effective number of neutrino species, N_eff: \n",
      "ratio of fine structure constant at recombination to today's value, fsR: \n",
      "ratio of electron mass at recombination to today's value, meR: \n",
      "dark matter annihilation parameter, in cm^3/s/GeV, pann: \n",
      "pann_halo: \n",
      "ann_z: \n",
      "ann_zmax: \n",
      "ann_zmin: \n",
      "ann_var: \n",
      "ann_z_halo: \n",
      "on_the_spot: \n",
      "decay: \n",
      "Mpbh: \n",
      "fpbh: \n",
      "\n"
     ]
    }
   ],
   "source": [
    "!cd HYREC-2 && ./hyrec < ../hyrec_input.dat && cd .."
   ]
  },
  {
   "cell_type": "markdown",
   "id": "0e1b3119-ef0a-463b-8538-9c6ad91843b4",
   "metadata": {},
   "source": [
    "Read the data"
   ]
  },
  {
   "cell_type": "code",
   "execution_count": 24,
   "id": "6b7f198b-1537-4a5d-bb86-f888d837b9b8",
   "metadata": {},
   "outputs": [],
   "source": [
    "data = np.loadtxt(\n",
    "    'HYREC-2/output_xe.dat',\n",
    "    dtype={\n",
    "        'names': ('z', 'x_e', 'T_m'),\n",
    "        'formats': ('<f8', '<f8', '<f8'),\n",
    "    }\n",
    ")\n",
    "\n",
    "z = data['z']\n",
    "x_e = data['x_e']\n",
    "\n",
    "mask = (z >= 200) & (z <= 1500)\n",
    "z_HYREC = z[mask]\n",
    "x_e_HYREC = x_e[mask]"
   ]
  },
  {
   "cell_type": "code",
   "execution_count": 25,
   "id": "ba86c4b4-310c-4dcb-9c42-a273477f9f39",
   "metadata": {},
   "outputs": [],
   "source": [
    "x_e_saha = [solver.saha(z) for z in result.t]"
   ]
  },
  {
   "cell_type": "code",
   "execution_count": 26,
   "id": "d50e7362-abaf-493c-83fb-22e371f5d908",
   "metadata": {},
   "outputs": [
    {
     "data": {
      "image/png": "[encoded data removed]",
      "text/plain": [
       "<Figure size 720x576 with 1 Axes>"
      ]
     },
     "metadata": {},
     "output_type": "display_data"
    },
    {
     "data": {
      "image/png": "[encoded data removed]",
      "text/plain": [
       "<Figure size 720x576 with 1 Axes>"
      ]
     },
     "metadata": {},
     "output_type": "display_data"
    }
   ],
   "source": [
    "plt.plot(result.t, result.y.squeeze())\n",
    "plt.plot(result.t, x_e_saha)\n",
    "plt.plot(z_HYREC, x_e_HYREC, ls=':')\n",
    "\n",
    "plt.xlabel('Redshift, $z$')\n",
    "plt.ylabel('Free electron fraction, $x_e$')\n",
    "\n",
    "plt.legend(['My code', 'Saha', 'HYREC-2'], loc='upper left', frameon=False)\n",
    "plt.show()\n",
    "\n",
    "\n",
    "plt.plot(result.t, result.y.squeeze())\n",
    "plt.plot(result.t, x_e_saha)\n",
    "plt.plot(z_HYREC, x_e_HYREC, ls=':')\n",
    "\n",
    "plt.yscale('log')\n",
    "plt.ylim(1e-4, 2)\n",
    "plt.xlabel('Redshift, $z$')\n",
    "plt.ylabel('Free electron fraction, $x_e$')\n",
    "\n",
    "plt.legend(['My code', 'Saha', 'HYREC-2'], loc='upper left', frameon=False)\n",
    "plt.show()"
   ]
  },
  {
   "cell_type": "code",
   "execution_count": null,
   "id": "5c91a17f-309c-40d6-baf3-bc76f2c2b843",
   "metadata": {},
   "outputs": [],
   "source": []
  }
 ],
 "metadata": {
  "kernelspec": {
   "display_name": "Poetry",
   "language": "python",
   "name": "poetry-kernel"
  },
  "language_info": {
   "codemirror_mode": {
    "name": "ipython",
    "version": 3
   },
   "file_extension": ".py",
   "mimetype": "text/x-python",
   "name": "python",
   "nbconvert_exporter": "python",
   "pygments_lexer": "ipython3",
   "version": "3.12.8"
  }
 },
 "nbformat": 4,
 "nbformat_minor": 5
}
